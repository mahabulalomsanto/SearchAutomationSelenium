{
 "cells": [
  {
   "cell_type": "code",
   "execution_count": null,
   "metadata": {},
   "outputs": [],
   "source": [
    "import time\n",
    "import openpyxl\n",
    "from selenium import webdriver\n",
    "from selenium.webdriver.common.by import By\n",
    "from selenium.webdriver.chrome.service import Service\n",
    "from datetime import datetime\n",
    "\n",
    "driver = webdriver.Chrome(service=Service(\"/Volumes/PROGRAMMING/Python/4 Beats Task/SearchAutomationBySelenium/chromedriver\"))\n",
    "\n",
    "sheet_name = datetime.now().strftime(\"%A\")\n",
    "workbook = openpyxl.load_workbook(\"Excel.xlsx\")\n",
    "sheet = workbook[sheet_name]\n",
    "\n",
    "for idx, row in enumerate(sheet.iter_rows(min_row=3, max_col=3, values_only=True), start=3):\n",
    "    keyword = row[2]\n",
    "    if keyword:\n",
    "        driver.get(\"https://www.google.com\")\n",
    "        driver.find_element(By.NAME, \"q\").send_keys(keyword)\n",
    "        time.sleep(1)\n",
    "        suggestions = [s.text for s in driver.find_elements(By.CSS_SELECTOR, \"ul.G43f7e li span\") if s.text.strip()]\n",
    "        sheet.cell(row=idx, column=4).value = max(suggestions, key=len, default=\"No Suggestions\")\n",
    "        sheet.cell(row=idx, column=5).value = min(suggestions, key=len, default=\"No Suggestions\")\n",
    "\n",
    "workbook.save(\"updated_Excel.xlsx\")\n",
    "driver.quit()\n"
   ]
  }
 ],
 "metadata": {
  "kernelspec": {
   "display_name": "Python 3",
   "language": "python",
   "name": "python3"
  },
  "language_info": {
   "codemirror_mode": {
    "name": "ipython",
    "version": 3
   },
   "file_extension": ".py",
   "mimetype": "text/x-python",
   "name": "python",
   "nbconvert_exporter": "python",
   "pygments_lexer": "ipython3",
   "version": "3.13.0"
  }
 },
 "nbformat": 4,
 "nbformat_minor": 2
}
